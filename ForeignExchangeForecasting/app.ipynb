{
 "cells": [
  {
   "cell_type": "code",
   "execution_count": 3,
   "metadata": {},
   "outputs": [
    {
     "name": "stdout",
     "output_type": "stream",
     "text": [
      "Collecting flask_socketio\n",
      "  Downloading Flask_SocketIO-5.1.1-py3-none-any.whl (17 kB)\n",
      "Requirement already satisfied: Flask>=0.9 in /Users/ashishgupta/opt/anaconda3/lib/python3.8/site-packages (from flask_socketio) (1.1.2)\n",
      "Collecting python-socketio>=5.0.2\n",
      "  Downloading python_socketio-5.5.1-py3-none-any.whl (56 kB)\n",
      "     |████████████████████████████████| 56 kB 2.3 MB/s            \n",
      "\u001b[?25hRequirement already satisfied: itsdangerous>=0.24 in /Users/ashishgupta/opt/anaconda3/lib/python3.8/site-packages (from Flask>=0.9->flask_socketio) (1.1.0)\n",
      "Requirement already satisfied: Werkzeug>=0.15 in /Users/ashishgupta/opt/anaconda3/lib/python3.8/site-packages (from Flask>=0.9->flask_socketio) (1.0.1)\n",
      "Requirement already satisfied: Jinja2>=2.10.1 in /Users/ashishgupta/opt/anaconda3/lib/python3.8/site-packages (from Flask>=0.9->flask_socketio) (2.11.3)\n",
      "Requirement already satisfied: click>=5.1 in /Users/ashishgupta/opt/anaconda3/lib/python3.8/site-packages (from Flask>=0.9->flask_socketio) (7.1.2)\n",
      "Collecting bidict>=0.21.0\n",
      "  Downloading bidict-0.21.4-py3-none-any.whl (36 kB)\n",
      "Collecting python-engineio>=4.3.0\n",
      "  Downloading python_engineio-4.3.1-py3-none-any.whl (52 kB)\n",
      "     |████████████████████████████████| 52 kB 4.6 MB/s            \n",
      "\u001b[?25hRequirement already satisfied: MarkupSafe>=0.23 in /Users/ashishgupta/opt/anaconda3/lib/python3.8/site-packages (from Jinja2>=2.10.1->Flask>=0.9->flask_socketio) (1.1.1)\n",
      "Installing collected packages: python-engineio, bidict, python-socketio, flask-socketio\n",
      "Successfully installed bidict-0.21.4 flask-socketio-5.1.1 python-engineio-4.3.1 python-socketio-5.5.1\n",
      "\u001b[33mWARNING: You are using pip version 21.3.1; however, version 22.0.3 is available.\n",
      "You should consider upgrading via the '/Users/ashishgupta/opt/anaconda3/bin/python -m pip install --upgrade pip' command.\u001b[0m\n"
     ]
    }
   ],
   "source": [
    "!pip install flask_socketio"
   ]
  },
  {
   "cell_type": "code",
   "execution_count": 6,
   "metadata": {},
   "outputs": [],
   "source": [
    "   \n",
    "from flask import Flask,render_template,redirect,request\n",
    "from flask.helpers import flash\n",
    "import pandas as pd\n",
    "import matplotlib.pyplot as plt\n",
    "import numpy as np\n",
    "from fbprophet import Prophet\n",
    "import warnings"
   ]
  },
  {
   "cell_type": "code",
   "execution_count": 12,
   "metadata": {},
   "outputs": [],
   "source": [
    "from werkzeug import debug\n",
    "warnings.filterwarnings('ignore')\n",
    "from random import randint\n",
    "import plotly.graph_objs as go\n",
    "import plotly.offline as py\n",
    "import plotly.express as px\n",
    "from flask_socketio import SocketIO\n",
    "import datetime\n",
    "from datetime import timedelta, date\n",
    "from fbprophet.plot import plot_plotly"
   ]
  },
  {
   "cell_type": "code",
   "execution_count": 8,
   "metadata": {},
   "outputs": [],
   "source": [
    "from tempfile import TemporaryDirectory"
   ]
  },
  {
   "cell_type": "code",
   "execution_count": 9,
   "metadata": {},
   "outputs": [],
   "source": [
    "def daterange(start_date, end_date):\n",
    "    for n in range(int ((end_date - start_date).days)):\n",
    "        yield start_date + timedelta(n)\n",
    "    "
   ]
  },
  {
   "cell_type": "code",
   "execution_count": 13,
   "metadata": {},
   "outputs": [],
   "source": [
    "hist_df = pd.read_csv('hkd_data_2010_inr.csv')  \n",
    "start_date = date(2021, 4, 23)\n",
    "end_date = datetime.date.today()\n",
    "df = pd.DataFrame()\n",
    "for single_date in daterange(start_date, end_date):\n",
    "    dfs = pd.read_html(f'https://www.xe.com/currencytables/?from=HKD&date={single_date.strftime(\"%Y-%m-%d\")}')[0]\n",
    "    dfs['Date'] = single_date.strftime(\"%Y-%m-%d\")\n",
    "    df = df.append(dfs)  \n",
    "df.to_csv('hkd_data.csv')\n",
    "inr_df = df[df['Currency'] == 'INR']"
   ]
  },
  {
   "cell_type": "markdown",
   "metadata": {},
   "source": [
    "nr_df.pop('Rate')<br>\n",
    "nr_df.pop('Change')"
   ]
  },
  {
   "cell_type": "code",
   "execution_count": 14,
   "metadata": {},
   "outputs": [],
   "source": [
    "inr_df = df[df['Currency'] == 'INR']\n",
    "\n",
    "\n",
    "inr_df = pd.concat([hist_df, inr_df], ignore_index=True)\n"
   ]
  },
  {
   "cell_type": "code",
   "execution_count": 15,
   "metadata": {},
   "outputs": [
    {
     "data": {
      "text/html": [
       "<div>\n",
       "<style scoped>\n",
       "    .dataframe tbody tr th:only-of-type {\n",
       "        vertical-align: middle;\n",
       "    }\n",
       "\n",
       "    .dataframe tbody tr th {\n",
       "        vertical-align: top;\n",
       "    }\n",
       "\n",
       "    .dataframe thead th {\n",
       "        text-align: right;\n",
       "    }\n",
       "</style>\n",
       "<table border=\"1\" class=\"dataframe\">\n",
       "  <thead>\n",
       "    <tr style=\"text-align: right;\">\n",
       "      <th></th>\n",
       "      <th>Unnamed: 0</th>\n",
       "      <th>Unnamed: 0.1</th>\n",
       "      <th>Change</th>\n",
       "      <th>Currency</th>\n",
       "      <th>Date</th>\n",
       "      <th>HKD per unit</th>\n",
       "      <th>Name</th>\n",
       "      <th>Rate</th>\n",
       "      <th>Units per HKD</th>\n",
       "    </tr>\n",
       "  </thead>\n",
       "  <tbody>\n",
       "    <tr>\n",
       "      <th>0</th>\n",
       "      <td>3.0</td>\n",
       "      <td>3.0</td>\n",
       "      <td>NaN</td>\n",
       "      <td>INR</td>\n",
       "      <td>2011-01-01</td>\n",
       "      <td>0.173893</td>\n",
       "      <td>Indian Rupee</td>\n",
       "      <td>NaN</td>\n",
       "      <td>5.750676</td>\n",
       "    </tr>\n",
       "    <tr>\n",
       "      <th>1</th>\n",
       "      <td>166.0</td>\n",
       "      <td>3.0</td>\n",
       "      <td>NaN</td>\n",
       "      <td>INR</td>\n",
       "      <td>2011-01-02</td>\n",
       "      <td>0.173893</td>\n",
       "      <td>Indian Rupee</td>\n",
       "      <td>NaN</td>\n",
       "      <td>5.750676</td>\n",
       "    </tr>\n",
       "    <tr>\n",
       "      <th>2</th>\n",
       "      <td>329.0</td>\n",
       "      <td>3.0</td>\n",
       "      <td>NaN</td>\n",
       "      <td>INR</td>\n",
       "      <td>2011-01-03</td>\n",
       "      <td>0.174223</td>\n",
       "      <td>Indian Rupee</td>\n",
       "      <td>NaN</td>\n",
       "      <td>5.739785</td>\n",
       "    </tr>\n",
       "    <tr>\n",
       "      <th>3</th>\n",
       "      <td>492.0</td>\n",
       "      <td>3.0</td>\n",
       "      <td>NaN</td>\n",
       "      <td>INR</td>\n",
       "      <td>2011-01-04</td>\n",
       "      <td>0.172422</td>\n",
       "      <td>Indian Rupee</td>\n",
       "      <td>NaN</td>\n",
       "      <td>5.799726</td>\n",
       "    </tr>\n",
       "    <tr>\n",
       "      <th>4</th>\n",
       "      <td>655.0</td>\n",
       "      <td>3.0</td>\n",
       "      <td>NaN</td>\n",
       "      <td>INR</td>\n",
       "      <td>2011-01-05</td>\n",
       "      <td>0.171313</td>\n",
       "      <td>Indian Rupee</td>\n",
       "      <td>NaN</td>\n",
       "      <td>5.837257</td>\n",
       "    </tr>\n",
       "  </tbody>\n",
       "</table>\n",
       "</div>"
      ],
      "text/plain": [
       "   Unnamed: 0  Unnamed: 0.1  Change Currency        Date  HKD per unit  \\\n",
       "0         3.0           3.0     NaN      INR  2011-01-01      0.173893   \n",
       "1       166.0           3.0     NaN      INR  2011-01-02      0.173893   \n",
       "2       329.0           3.0     NaN      INR  2011-01-03      0.174223   \n",
       "3       492.0           3.0     NaN      INR  2011-01-04      0.172422   \n",
       "4       655.0           3.0     NaN      INR  2011-01-05      0.171313   \n",
       "\n",
       "           Name  Rate  Units per HKD  \n",
       "0  Indian Rupee   NaN       5.750676  \n",
       "1  Indian Rupee   NaN       5.750676  \n",
       "2  Indian Rupee   NaN       5.739785  \n",
       "3  Indian Rupee   NaN       5.799726  \n",
       "4  Indian Rupee   NaN       5.837257  "
      ]
     },
     "execution_count": 15,
     "metadata": {},
     "output_type": "execute_result"
    }
   ],
   "source": [
    "inr_df.head(5)"
   ]
  },
  {
   "cell_type": "code",
   "execution_count": 16,
   "metadata": {},
   "outputs": [],
   "source": [
    "length=len(inr_df)\n",
    "data_day1=inr_df[length-1:]\n",
    "data_day2=inr_df[length-2:length-1]\n",
    "data_day7=inr_df[length-7:length-6]\n",
    "data_day15=inr_df[length-15:length-14]\n",
    "data_day365=inr_df[length-365:length-364]"
   ]
  },
  {
   "cell_type": "code",
   "execution_count": 17,
   "metadata": {},
   "outputs": [],
   "source": [
    "change_1=float(data_day2['Units per HKD'])-float(data_day1['Units per HKD'])\n",
    "change_7=float(data_day7['Units per HKD'])-float(data_day1['Units per HKD'])\n",
    "change_15=float(data_day15['Units per HKD'])-float(data_day1['Units per HKD'])\n",
    "change_365=float(data_day365['Units per HKD'])-float(data_day1['Units per HKD'])"
   ]
  },
  {
   "cell_type": "code",
   "execution_count": 18,
   "metadata": {},
   "outputs": [],
   "source": [
    "price_day1=float(data_day1['Units per HKD'])\n",
    "#print(price_day1,change_1,change_7,change_15,change_365)"
   ]
  },
  {
   "cell_type": "code",
   "execution_count": 17,
   "metadata": {},
   "outputs": [],
   "source": []
  },
  {
   "cell_type": "code",
   "execution_count": null,
   "metadata": {},
   "outputs": [],
   "source": [
    "import os\n",
    "app = Flask(\"__name__\")\n",
    "app.config[\"IMAGE_UPLOADS\"] = \"static/img/\"\n",
    "app.config[\"Graph_UPLOADS\"] = \"static/graph/\"\n",
    "app.secret_key = \"dadbn2e298ynce8y998c@_shlbsjda\"\n",
    "socketio = SocketIO(app)\n",
    "@app.route('/')\n",
    "def index():\n",
    "    \n",
    "    \n",
    "    actual_chart = go.Scatter(y=inr_df[\"Units per HKD\"], x=inr_df[\"Date\"], name= 'Data')\n",
    "    \n",
    "    with TemporaryDirectory() as tmp_dir:\n",
    "        filename = tmp_dir + \"tmp.html\"\n",
    "        py.plot([actual_chart],filename = filename , auto_open=False)\n",
    "        with open(filename, \"r\") as f:\n",
    "            graph_html = f.read()\n",
    "    \n",
    "    IS_FORECAST = False\n",
    "    return render_template(\"step1.html\",price_day1=price_day1,change_1=change_1,change_7=change_7,change_15=change_15,change_365=change_365, graph_html=graph_html, IS_FORECAST=IS_FORECAST)\n",
    "@app.route('/submit',methods=['POST'])\n",
    "def submit_data():\n",
    "    try:\n",
    "        s2=int(request.form['parameter'])\n",
    "        s1=request.form['options']\n",
    "    except:\n",
    "        flash(\"Please provide valid inputs\")\n",
    "        return redirect(\"/\")\n",
    "    df= inr_df.drop(['Currency', 'Name', 'HKD per unit'], axis=1)\n",
    "    df = df.rename(columns={'Units per HKD': 'y', 'Date': 'ds'})\n",
    "\n",
    "    # to save a copy of the original data..you'll see why shortly. \n",
    "    df['y_orig'] = df['y'] \n",
    "    # log-transform of y\n",
    "    df['y'] = np.log(df['y'])\n",
    "    #instantiate Prophet\n",
    "    model = Prophet() \n",
    "    model.fit(df)\n",
    "    future_data = model.make_future_dataframe(periods=s2, freq = s1)  #dropdown   \n",
    "    future_data.tail()\n",
    "    forecast_data = model.predict(future_data)\n",
    "    forecast_data[['ds', 'yhat', 'yhat_lower', 'yhat_upper']].tail(5)\n",
    "\n",
    "    # make sure we save the original forecast data\n",
    "    forecast_data_orig = forecast_data \n",
    "    forecast_data_orig['yhat'] = np.exp(forecast_data_orig['yhat'])\n",
    "    forecast_data_orig['yhat_lower'] = np.exp(forecast_data_orig['yhat_lower'])\n",
    "    forecast_data_orig['yhat_upper'] = np.exp(forecast_data_orig['yhat_upper'])\n",
    "    df['y_log']=df['y'] \n",
    "    df['y']=df['y_orig']\n",
    "    final_df = pd.DataFrame(forecast_data_orig)\n",
    "    actual_chart = go.Scatter(y=df[\"y_orig\"], name= 'Actual')\n",
    "    predict_chart = go.Scatter(y=final_df[\"yhat\"], name= 'Predicted')\n",
    "    predict_chart_upper = go.Scatter(y=final_df[\"yhat_upper\"], name= 'Predicted Upper')\n",
    "    predict_chart_lower = go.Scatter(y=final_df[\"yhat_lower\"], name= 'Predicted Lower')\n",
    "    \n",
    "    with TemporaryDirectory() as tmp_dir:\n",
    "        filename = tmp_dir + \"tmp.html\"\n",
    "        py.plot([actual_chart, predict_chart, predict_chart_upper, predict_chart_lower],filename = filename, auto_open=False)\n",
    "        with open(filename, \"r\") as f:\n",
    "            graph_html = f.read()\n",
    "    if s1==\"D\":\n",
    "        value=\"Days\"\n",
    "    elif s1==\"M\":\n",
    "        value=\"Month\"\n",
    "    else:\n",
    "        value=\"Year\"\n",
    "    final_df_1=final_df[['ds','yhat']].tail(s2)\n",
    "    final_df_1 = final_df_1.rename(columns={'yhat': 'Units Per HKD', 'ds':value})\n",
    "    final_df_1.reset_index(drop=True, inplace=True)\n",
    "    IS_FORECAST = True\n",
    "    \n",
    "    table = final_df_1.to_html(classes='table table-striped', border=0)\n",
    "    table = table.replace('tr style=\"text-align: right;\"', 'tr style=\"text-align: center;\"')\n",
    "    table = table.replace('<th></th>', '')\n",
    "    table = table.replace('<th>', '<th colspan=\"2\">', 1)\n",
    "    print(table)\n",
    "    return render_template(\"step1.html\",price_day1=price_day1,change_1=change_1,change_7=change_7,change_15=change_15,change_365=change_365, graph_html=graph_html, parameter=s2,table=table, IS_FORECAST = IS_FORECAST)\n",
    "\n",
    "if __name__ ==\"__main__\":\n",
    "\n",
    "    socketio.run(app, port=8000, debug=False)"
   ]
  },
  {
   "cell_type": "code",
   "execution_count": 24,
   "metadata": {},
   "outputs": [
    {
     "ename": "SystemExit",
     "evalue": "1",
     "output_type": "error",
     "traceback": [
      "\u001b[0;31m---------------------------------------------------------------------------\u001b[0m",
      "\u001b[0;31mSystemExit\u001b[0m                                Traceback (most recent call last)",
      "\u001b[0;32m<ipython-input-23-9b0cf32ef97b>\u001b[0m in \u001b[0;36m<module>\u001b[0;34m\u001b[0m\n\u001b[1;32m     80\u001b[0m \u001b[0;32mif\u001b[0m \u001b[0m__name__\u001b[0m \u001b[0;34m==\u001b[0m\u001b[0;34m\"__main__\"\u001b[0m\u001b[0;34m:\u001b[0m\u001b[0;34m\u001b[0m\u001b[0;34m\u001b[0m\u001b[0m\n\u001b[1;32m     81\u001b[0m \u001b[0;34m\u001b[0m\u001b[0m\n\u001b[0;32m---> 82\u001b[0;31m     \u001b[0msocketio\u001b[0m\u001b[0;34m.\u001b[0m\u001b[0mrun\u001b[0m\u001b[0;34m(\u001b[0m\u001b[0mapp\u001b[0m\u001b[0;34m,\u001b[0m \u001b[0mport\u001b[0m\u001b[0;34m=\u001b[0m\u001b[0;36m8000\u001b[0m\u001b[0;34m,\u001b[0m \u001b[0mdebug\u001b[0m\u001b[0;34m=\u001b[0m\u001b[0;32mTrue\u001b[0m\u001b[0;34m)\u001b[0m\u001b[0;34m\u001b[0m\u001b[0;34m\u001b[0m\u001b[0m\n\u001b[0m",
      "\u001b[0;32m~/opt/anaconda3/lib/python3.8/site-packages/flask_socketio/__init__.py\u001b[0m in \u001b[0;36mrun\u001b[0;34m(self, app, host, port, **kwargs)\u001b[0m\n\u001b[1;32m    660\u001b[0m                     \u001b[0mself\u001b[0m\u001b[0;34m.\u001b[0m\u001b[0mwsgi_server\u001b[0m\u001b[0;34m.\u001b[0m\u001b[0mserve_forever\u001b[0m\u001b[0;34m(\u001b[0m\u001b[0;34m)\u001b[0m\u001b[0;34m\u001b[0m\u001b[0;34m\u001b[0m\u001b[0m\n\u001b[1;32m    661\u001b[0m \u001b[0;34m\u001b[0m\u001b[0m\n\u001b[0;32m--> 662\u001b[0;31m                 \u001b[0mrun_with_reloader\u001b[0m\u001b[0;34m(\u001b[0m\u001b[0mrun_server\u001b[0m\u001b[0;34m,\u001b[0m \u001b[0;34m**\u001b[0m\u001b[0mreloader_options\u001b[0m\u001b[0;34m)\u001b[0m\u001b[0;34m\u001b[0m\u001b[0;34m\u001b[0m\u001b[0m\n\u001b[0m\u001b[1;32m    663\u001b[0m             \u001b[0;32melse\u001b[0m\u001b[0;34m:\u001b[0m\u001b[0;34m\u001b[0m\u001b[0;34m\u001b[0m\u001b[0m\n\u001b[1;32m    664\u001b[0m                 \u001b[0mself\u001b[0m\u001b[0;34m.\u001b[0m\u001b[0mwsgi_server\u001b[0m\u001b[0;34m.\u001b[0m\u001b[0mserve_forever\u001b[0m\u001b[0;34m(\u001b[0m\u001b[0;34m)\u001b[0m\u001b[0;34m\u001b[0m\u001b[0;34m\u001b[0m\u001b[0m\n",
      "\u001b[0;32m~/opt/anaconda3/lib/python3.8/site-packages/werkzeug/_reloader.py\u001b[0m in \u001b[0;36mrun_with_reloader\u001b[0;34m(main_func, extra_files, interval, reloader_type)\u001b[0m\n\u001b[1;32m    337\u001b[0m             \u001b[0mreloader\u001b[0m\u001b[0;34m.\u001b[0m\u001b[0mrun\u001b[0m\u001b[0;34m(\u001b[0m\u001b[0;34m)\u001b[0m\u001b[0;34m\u001b[0m\u001b[0;34m\u001b[0m\u001b[0m\n\u001b[1;32m    338\u001b[0m         \u001b[0;32melse\u001b[0m\u001b[0;34m:\u001b[0m\u001b[0;34m\u001b[0m\u001b[0;34m\u001b[0m\u001b[0m\n\u001b[0;32m--> 339\u001b[0;31m             \u001b[0msys\u001b[0m\u001b[0;34m.\u001b[0m\u001b[0mexit\u001b[0m\u001b[0;34m(\u001b[0m\u001b[0mreloader\u001b[0m\u001b[0;34m.\u001b[0m\u001b[0mrestart_with_reloader\u001b[0m\u001b[0;34m(\u001b[0m\u001b[0;34m)\u001b[0m\u001b[0;34m)\u001b[0m\u001b[0;34m\u001b[0m\u001b[0;34m\u001b[0m\u001b[0m\n\u001b[0m\u001b[1;32m    340\u001b[0m     \u001b[0;32mexcept\u001b[0m \u001b[0mKeyboardInterrupt\u001b[0m\u001b[0;34m:\u001b[0m\u001b[0;34m\u001b[0m\u001b[0;34m\u001b[0m\u001b[0m\n\u001b[1;32m    341\u001b[0m         \u001b[0;32mpass\u001b[0m\u001b[0;34m\u001b[0m\u001b[0;34m\u001b[0m\u001b[0m\n",
      "\u001b[0;31mSystemExit\u001b[0m: 1"
     ]
    }
   ],
   "source": [
    "%tb"
   ]
  },
  {
   "cell_type": "code",
   "execution_count": 22,
   "metadata": {},
   "outputs": [
    {
     "name": "stdout",
     "output_type": "stream",
     "text": [
      "Collecting gevent-websocket\n",
      "  Downloading gevent_websocket-0.10.1-py3-none-any.whl (22 kB)\n",
      "Requirement already satisfied: gevent in /Users/ashishgupta/opt/anaconda3/lib/python3.8/site-packages (from gevent-websocket) (21.1.2)\n",
      "Requirement already satisfied: setuptools in /Users/ashishgupta/opt/anaconda3/lib/python3.8/site-packages (from gevent->gevent-websocket) (52.0.0.post20210125)\n",
      "Requirement already satisfied: zope.event in /Users/ashishgupta/opt/anaconda3/lib/python3.8/site-packages (from gevent->gevent-websocket) (4.5.0)\n",
      "Requirement already satisfied: zope.interface in /Users/ashishgupta/opt/anaconda3/lib/python3.8/site-packages (from gevent->gevent-websocket) (5.3.0)\n",
      "Requirement already satisfied: greenlet<2.0,>=0.4.17 in /Users/ashishgupta/opt/anaconda3/lib/python3.8/site-packages (from gevent->gevent-websocket) (1.0.0)\n",
      "Installing collected packages: gevent-websocket\n",
      "Successfully installed gevent-websocket-0.10.1\n",
      "\u001b[33mWARNING: You are using pip version 21.3.1; however, version 22.0.3 is available.\n",
      "You should consider upgrading via the '/Users/ashishgupta/opt/anaconda3/bin/python -m pip install --upgrade pip' command.\u001b[0m\n"
     ]
    }
   ],
   "source": [
    "!pip install gevent-websocket"
   ]
  },
  {
   "cell_type": "code",
   "execution_count": null,
   "metadata": {},
   "outputs": [],
   "source": []
  }
 ],
 "metadata": {
  "kernelspec": {
   "display_name": "Python 3",
   "language": "python",
   "name": "python3"
  },
  "language_info": {
   "codemirror_mode": {
    "name": "ipython",
    "version": 3
   },
   "file_extension": ".py",
   "mimetype": "text/x-python",
   "name": "python",
   "nbconvert_exporter": "python",
   "pygments_lexer": "ipython3",
   "version": "3.8.8"
  }
 },
 "nbformat": 4,
 "nbformat_minor": 2
}
